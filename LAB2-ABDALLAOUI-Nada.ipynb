{
 "cells": [
  {
   "cell_type": "markdown",
   "metadata": {
    "id": "wf6LT0q7y2l1"
   },
   "source": [
    "## **Import data and librairies**"
   ]
  },
  {
   "cell_type": "code",
   "execution_count": 1,
   "metadata": {
    "id": "Zemp2DMcb79C"
   },
   "outputs": [],
   "source": [
    "import networkx as nx\n",
    "import matplotlib.pyplot as plt\n",
    "import numpy as np\n",
    "import random\n",
    "from sklearn.model_selection import train_test_split"
   ]
  },
  {
   "cell_type": "code",
   "execution_count": 20,
   "metadata": {},
   "outputs": [],
   "source": [
    "G = nx.Graph()\n",
    "G.add_nodes_from([1,2,3])\n",
    "G.add_edges_from([(1, 2), (1, 3), (2, 3)])"
   ]
  },
  {
   "cell_type": "code",
   "execution_count": 21,
   "metadata": {},
   "outputs": [],
   "source": [
    "G2 = nx.Graph()\n",
    "G2.add_nodes_from([1,2,3])\n",
    "G2.add_edges_from([(1,2),(1,3)])"
   ]
  },
  {
   "cell_type": "code",
   "execution_count": 23,
   "metadata": {},
   "outputs": [
    {
     "name": "stdout",
     "output_type": "stream",
     "text": [
      "Graphlet Kernel Value: 7\n"
     ]
    }
   ],
   "source": [
    "import networkx as nx\n",
    "import numpy as np\n",
    "from itertools import combinations\n",
    "\n",
    "# Function to count subgraphs of size k in a graph\n",
    "def count_subgraphs(graph, k):\n",
    "    subgraph_count = 0\n",
    "    if k == 0:\n",
    "        return 1  # Handle the case when k is 0, there's one empty subgraph\n",
    "    for nodes in combinations(graph.nodes(), k):\n",
    "        subgraph = graph.subgraph(nodes)\n",
    "        if nx.is_connected(subgraph):\n",
    "            subgraph_count += 1\n",
    "    return subgraph_count\n",
    "\n",
    "# Calculate the graphlet kernel of size 3 for G and G2\n",
    "def graphlet_kernel(graph1, graph2, k=3):\n",
    "    kernel_value = 0\n",
    "    for i in range(k + 1):  # Include k=0\n",
    "        subgraph_count1 = count_subgraphs(graph1, i)\n",
    "        subgraph_count2 = count_subgraphs(graph2, i)\n",
    "        kernel_value += min(subgraph_count1, subgraph_count2)\n",
    "    return kernel_value\n",
    "\n",
    "# Calculate the graphlet kernel for G and G2\n",
    "kernel_value = graphlet_kernel(G, G2, k=3)\n",
    "\n",
    "print(f\"Graphlet Kernel Value: {kernel_value}\")"
   ]
  },
  {
   "cell_type": "code",
   "execution_count": null,
   "metadata": {},
   "outputs": [],
   "source": []
  },
  {
   "cell_type": "code",
   "execution_count": 10,
   "metadata": {},
   "outputs": [
    {
     "data": {
      "text/plain": [
       "1"
      ]
     },
     "execution_count": 10,
     "metadata": {},
     "output_type": "execute_result"
    }
   ],
   "source": [
    "G2.number_of_edges()"
   ]
  },
  {
   "cell_type": "markdown",
   "metadata": {
    "id": "X4mrt39Iqj7l"
   },
   "source": [
    "### **LOAD GRAPH AND SIMPLE STATISTICS**"
   ]
  },
  {
   "cell_type": "code",
   "execution_count": 15,
   "metadata": {
    "colab": {
     "base_uri": "https://localhost:8080/"
    },
    "id": "mV6Q9zKIcAO2",
    "outputId": "b7e78a10-cd48-47c8-bc06-c3e7547f33fe"
   },
   "outputs": [
    {
     "name": "stdout",
     "output_type": "stream",
     "text": [
      "The graph has 9877 nodes.\n",
      "The graph has 25998 edges.\n"
     ]
    }
   ],
   "source": [
    "############## Task 1\n",
    "\n",
    "graph = nx.read_edgelist('CA-HepTh.txt', comments='#', delimiter='\\t', encoding='utf-8')\n",
    "nb_nodes = graph.number_of_nodes()\n",
    "nb_edges = graph.number_of_edges()\n",
    "\n",
    "print(f\"The graph has {nb_nodes} nodes.\")\n",
    "print(f\"The graph has {nb_edges} edges.\")"
   ]
  },
  {
   "cell_type": "markdown",
   "metadata": {
    "id": "e11mes0bqyez"
   },
   "source": [
    "### **CONNECTED COMPONENTS**"
   ]
  },
  {
   "cell_type": "code",
   "execution_count": 16,
   "metadata": {
    "colab": {
     "base_uri": "https://localhost:8080/"
    },
    "id": "w_HHNSRhq2NX",
    "outputId": "8636417c-345c-419f-aca7-a5cacfc9d681"
   },
   "outputs": [
    {
     "name": "stdout",
     "output_type": "stream",
     "text": [
      "The graph has 429 connected components.\n"
     ]
    }
   ],
   "source": [
    "############## Task 2\n",
    "connected_components = nx.connected_components(graph)\n",
    "nb_connected_components = nx.number_connected_components(graph)\n",
    "\n",
    "print(f\"The graph has {nb_connected_components} connected components.\")"
   ]
  },
  {
   "cell_type": "code",
   "execution_count": 17,
   "metadata": {
    "colab": {
     "base_uri": "https://localhost:8080/"
    },
    "id": "KJQeF_T2wzo3",
    "outputId": "39fcae8f-7bcd-4215-f6ce-29a390cae936"
   },
   "outputs": [
    {
     "name": "stdout",
     "output_type": "stream",
     "text": [
      "The number of nodes on the largest connected components is 8638\n",
      "The number of edges on the largest connected components is 24827\n",
      "The largest connected components graph corresponds to 95.49580736979767 of the whole edges of the graph\n",
      "The largest connected components graph corresponds to 87.45570517363572 of the whole nodes of the graph\n"
     ]
    }
   ],
   "source": [
    "largest_cc = max(connected_components, key=len)\n",
    "graph_largest_cc = graph.subgraph(largest_cc).copy()\n",
    "\n",
    "nb_nodes_largest_cc = graph_largest_cc.number_of_nodes()\n",
    "nb_edges_largest_cc = graph_largest_cc.number_of_edges()\n",
    "\n",
    "fraction_edges = (nb_edges_largest_cc/nb_edges)*100\n",
    "fraction_nodes = (nb_nodes_largest_cc/nb_nodes)*100\n",
    "\n",
    "print(f\"The number of nodes on the largest connected components is {nb_nodes_largest_cc}\")\n",
    "print(f\"The number of edges on the largest connected components is {nb_edges_largest_cc}\")\n",
    "print(f\"The largest connected components graph corresponds to {fraction_edges} of the whole edges of the graph\")\n",
    "print(f\"The largest connected components graph corresponds to {fraction_nodes} of the whole nodes of the graph\")"
   ]
  },
  {
   "cell_type": "markdown",
   "metadata": {
    "id": "8wgDA2OTyVCn"
   },
   "source": [
    "### **Analysis of the Degree Distribution of the Graph**"
   ]
  },
  {
   "cell_type": "code",
   "execution_count": 18,
   "metadata": {
    "colab": {
     "base_uri": "https://localhost:8080/"
    },
    "id": "mgyjpaAPyYAO",
    "outputId": "12c7b289-530d-45e5-d060-d421f34656db"
   },
   "outputs": [
    {
     "name": "stdout",
     "output_type": "stream",
     "text": [
      "The maximum degree_sequence is 65\n",
      "The minimum degree_sequence is 1\n",
      "The mean degree_sequence is 5.264351523742027\n"
     ]
    }
   ],
   "source": [
    "############## Task 3\n",
    "degree_sequence = [graph.degree(node) for node in graph.nodes()]\n",
    "min_degree = min(degree_sequence)\n",
    "max_degree = max(degree_sequence)\n",
    "mean_degree = np.mean(degree_sequence)\n",
    "\n",
    "print(f\"The maximum degree_sequence is {max_degree}\")\n",
    "print(f\"The minimum degree_sequence is {min_degree}\")\n",
    "print(f\"The mean degree_sequence is {mean_degree}\")"
   ]
  },
  {
   "cell_type": "markdown",
   "metadata": {
    "id": "N7klzrjb9sXX"
   },
   "source": [
    "degree_histogram: This is a list where each element represents the frequency of nodes with a specific degree. The index in the list corresponds to the degree value, and the value at that index indicates how many nodes in the graph have that degree. The length of degree_histogram is typically determined by the maximum degree in your graph. If the maximum degree in your graph is 'd_max,' then len(degree_histogram) will be d_max + 1."
   ]
  },
  {
   "cell_type": "code",
   "execution_count": 19,
   "metadata": {
    "colab": {
     "base_uri": "https://localhost:8080/"
    },
    "id": "DlgLyaSu65qU",
    "outputId": "bae27e5a-060c-4409-9369-2098015508e6"
   },
   "outputs": [],
   "source": [
    "#returns a list of the frequency of each degree value\n",
    "degree_histogram = nx.degree_histogram(graph)"
   ]
  },
  {
   "cell_type": "code",
   "execution_count": 20,
   "metadata": {
    "colab": {
     "base_uri": "https://localhost:8080/",
     "height": 641
    },
    "id": "9h-BCUnx6UoM",
    "outputId": "9fb784e9-fc01-4258-ac7c-04a0e1115d7a"
   },
   "outputs": [
    {
     "data": {
      "image/png": "[encoded data removed]",
      "text/plain": [
       "<Figure size 700x700 with 1 Axes>"
      ]
     },
     "metadata": {},
     "output_type": "display_data"
    }
   ],
   "source": [
    "# Plot the degree histogram\n",
    "plt.figure(figsize = (7, 7))\n",
    "plt.bar(range(len(degree_histogram)), degree_histogram, color=\"b\")\n",
    "plt.title(\"Degree Histogram\")\n",
    "plt.xlabel(\"Degree\")\n",
    "plt.ylabel(\"Frequency\")\n",
    "plt.show()"
   ]
  },
  {
   "cell_type": "code",
   "execution_count": 21,
   "metadata": {},
   "outputs": [
    {
     "data": {
      "image/png": "[encoded data removed]",
      "text/plain": [
       "<Figure size 700x700 with 1 Axes>"
      ]
     },
     "metadata": {},
     "output_type": "display_data"
    }
   ],
   "source": [
    "plt.figure(figsize=(7, 7))\n",
    "plt.bar(range(len(degree_histogram)), degree_histogram, color=\"b\")\n",
    "plt.title(\"Log-Log Degree Histogram\")\n",
    "plt.xlabel(\"Log(Degree)\")\n",
    "plt.ylabel(\"Log(Frequency)\")\n",
    "\n",
    "# Set the y-axis and x-axis to use a logarithmic scale\n",
    "plt.yscale('log')\n",
    "plt.xscale('log')\n",
    "\n",
    "plt.show()"
   ]
  },
  {
   "cell_type": "markdown",
   "metadata": {
    "id": "GoC7nHnsALW3"
   },
   "source": [
    "### **Clustering Coefficient**"
   ]
  },
  {
   "cell_type": "code",
   "execution_count": 22,
   "metadata": {
    "colab": {
     "base_uri": "https://localhost:8080/"
    },
    "id": "97wTpPr6AOon",
    "outputId": "96de2523-795d-42bf-9ada-df74f6c7c5e2"
   },
   "outputs": [
    {
     "name": "stdout",
     "output_type": "stream",
     "text": [
      "Global Clustering Coefficient: 0.2840\n"
     ]
    }
   ],
   "source": [
    "# Calculate the global clustering coefficient\n",
    "global_clustering_coefficient = nx.transitivity(graph)\n",
    "\n",
    "print(f\"Global Clustering Coefficient: {global_clustering_coefficient:.4f}\")"
   ]
  },
  {
   "cell_type": "markdown",
   "metadata": {
    "id": "HdEwssCHGxow"
   },
   "source": [
    "### **Community Detection**"
   ]
  },
  {
   "cell_type": "markdown",
   "metadata": {},
   "source": [
    "If the graph (G) has K connected components, then L has K eigenvectors with an eigenvalue of 0."
   ]
  },
  {
   "cell_type": "code",
   "execution_count": 23,
   "metadata": {
    "id": "BQ_4X0P5jTv5"
   },
   "outputs": [],
   "source": [
    "import networkx as nx\n",
    "import numpy as np\n",
    "from scipy.sparse.linalg import eigs\n",
    "from sklearn.cluster import KMeans\n",
    "\n",
    "def spectral_clustering(G, k):\n",
    "    \n",
    "    A = nx.to_numpy_array(G)  # Convert the graph to a NumPy array\n",
    "    n = A.shape[0]\n",
    "    D = np.diag(np.sum(A, axis=1))  # Degree matrix as a diagonal matrix\n",
    "    L = np.identity(n) - np.linalg.inv(D) @ A\n",
    "    d = k\n",
    "    \n",
    "    _, U = eigs(L, k=d, which=\"SR\")  # Calculate the top k eigenvectors\n",
    "    kmeans = KMeans(n_clusters=k)\n",
    "    kmeans.fit(np.real(U))\n",
    "    labels = kmeans.labels_\n",
    "    \n",
    "    clustering = {}\n",
    "    nodes = list(G.nodes())\n",
    "    for i in range(n):\n",
    "        clustering[nodes[i]] = labels[i]\n",
    "    \n",
    "    return clustering"
   ]
  },
  {
   "cell_type": "code",
   "execution_count": 46,
   "metadata": {},
   "outputs": [],
   "source": [
    "import networkx as nx\n",
    "import numpy as np\n",
    "from scipy.sparse.linalg import eigs\n",
    "from sklearn.cluster import KMeans\n",
    "\n",
    "def spectral_clustering(G, k):\n",
    "    A = nx.to_numpy_array(G)  # Convert the graph to a NumPy array\n",
    "    n = G.number_of_nodes()\n",
    "    D = np.diag(np.sum(A, axis=1))  # Degree matrix as a diagonal matrix\n",
    "    L = np.identity(n) - np.linalg.inv(D) @ A\n",
    "    d = k\n",
    "    \n",
    "    _, U = eigs(L, k=d, which='SR', maxiter=5000)  # Increase maxiter for better convergence\n",
    "\n",
    "    kmeans = KMeans(n_clusters=k)\n",
    "    kmeans.fit(np.real(U))\n",
    "    labels = kmeans.labels_\n",
    "    \n",
    "    clustering = dict(zip(G.nodes(), labels))\n",
    "\n",
    "    return clustering"
   ]
  },
  {
   "cell_type": "code",
   "execution_count": 47,
   "metadata": {
    "id": "c3qNF7p8UaYQ"
   },
   "outputs": [
    {
     "name": "stderr",
     "output_type": "stream",
     "text": [
      "C:\\Users\\Badr\\anaconda3\\lib\\site-packages\\sklearn\\cluster\\_kmeans.py:870: FutureWarning: The default value of `n_init` will change from 10 to 'auto' in 1.4. Set the value of `n_init` explicitly to suppress the warning\n",
      "  warnings.warn(\n"
     ]
    }
   ],
   "source": [
    "clustering1 = spectral_clustering(graph, 50)"
   ]
  },
  {
   "cell_type": "markdown",
   "metadata": {
    "id": "RFxjd5P5WJYT"
   },
   "source": [
    "### **Modularity**"
   ]
  },
  {
   "cell_type": "code",
   "execution_count": 48,
   "metadata": {
    "id": "8y4h5MFOZChy"
   },
   "outputs": [],
   "source": [
    "import networkx as nx\n",
    "\n",
    "def modularity(G, clustering):\n",
    "    m = G.number_of_edges()  # Total number of edges in the graph\n",
    "    nb_clusters = len(set(clustering.values()))  # Number of clusters\n",
    "\n",
    "    S = 0\n",
    "    for i in range(nb_clusters):\n",
    "        # List of nodes that belong to cluster i\n",
    "        community = [node for node, cluster_id in clustering.items() if cluster_id == i]\n",
    "        graph_community = G.subgraph(community)\n",
    "        l = graph_community.number_of_edges()  # Number of edges within the community\n",
    "        d = sum(dict(G.degree(community)).values())  # Sum of degrees of nodes in the community\n",
    "        S += (l / m) - ((d / (2 * m)) ** 2)  # Divide by 2m since each edge is counted twice\n",
    "\n",
    "    modularity = S\n",
    "\n",
    "    return modularity"
   ]
  },
  {
   "cell_type": "markdown",
   "metadata": {
    "id": "iDrrSkvZil38"
   },
   "source": [
    "\"\"\"Compute the modularity of the following two clustering results: (i) the one obtained by the\n",
    "Spectral Clustering algorithm using k = 50, and (ii) the one obtained if we randomly partition\n",
    "the nodes into 50 clusters (Hint: to assign each node to a cluster, use the randint(a,b) function\n",
    "which returns a random integer n such that a ≤ n ≤ b).\"\"\""
   ]
  },
  {
   "cell_type": "code",
   "execution_count": 52,
   "metadata": {
    "id": "CfgnNBeyjufQ"
   },
   "outputs": [
    {
     "name": "stdout",
     "output_type": "stream",
     "text": [
      "0.06570007920922692\n"
     ]
    }
   ],
   "source": [
    "#clustering1 = spectral_clustering(graph, 50)\n",
    "modularity1 = modularity(graph, clustering1)\n",
    "print(modularity1)"
   ]
  },
  {
   "cell_type": "code",
   "execution_count": 50,
   "metadata": {
    "id": "uh64tVNJmJAU"
   },
   "outputs": [
    {
     "name": "stdout",
     "output_type": "stream",
     "text": [
      "-0.0001987687443111439\n"
     ]
    }
   ],
   "source": [
    "clustering2 = {}\n",
    "for node in graph.nodes():\n",
    "  clustering2[node] = random.randint(0,50)\n",
    "modularity2 = modularity(graph, clustering2)\n",
    "print(modularity2)"
   ]
  },
  {
   "cell_type": "markdown",
   "metadata": {
    "id": "iHlRGitvnJw8"
   },
   "source": [
    "# **Graph Classification using Graph Kernels**"
   ]
  },
  {
   "cell_type": "markdown",
   "metadata": {
    "id": "ovD-Q3Lho0pj"
   },
   "source": [
    "### **Dataset Generation**"
   ]
  },
  {
   "cell_type": "code",
   "execution_count": 36,
   "metadata": {
    "id": "5GS3S_73oxVl"
   },
   "outputs": [],
   "source": [
    "############## Task 10\n",
    "# Generate simple dataset\n",
    "def create_dataset():\n",
    "    Gs = list()\n",
    "    y = list()\n",
    "\n",
    "    for i in range(3,103):\n",
    "      Gs.append(nx.cycle_graph(i))\n",
    "      y.append(0)\n",
    "      Gs.append(nx.path_graph(i))\n",
    "      y.append(1)\n",
    "\n",
    "    return Gs, y\n",
    "\n",
    "Gs, y = create_dataset()\n",
    "Gs_train, Gs_test, y_train, y_test = train_test_split(Gs, y, test_size=0.1)"
   ]
  },
  {
   "cell_type": "markdown",
   "metadata": {
    "id": "2L3-8frNrAsU"
   },
   "source": [
    "### **Implementation of Graphlet Kernel**"
   ]
  },
  {
   "cell_type": "code",
   "execution_count": 37,
   "metadata": {
    "id": "57n6bnhRrIfe"
   },
   "outputs": [],
   "source": [
    "# Compute the shortest path kernel\n",
    "def shortest_path_kernel(Gs_train, Gs_test):\n",
    "    all_paths = dict()\n",
    "    sp_counts_train = dict()\n",
    "\n",
    "    for i,G in enumerate(Gs_train):\n",
    "        sp_lengths = dict(nx.shortest_path_length(G))\n",
    "        sp_counts_train[i] = dict()\n",
    "        nodes = G.nodes()\n",
    "        for v1 in nodes:\n",
    "            for v2 in nodes:\n",
    "                if v2 in sp_lengths[v1]:\n",
    "                    length = sp_lengths[v1][v2]\n",
    "                    if length in sp_counts_train[i]:\n",
    "                        sp_counts_train[i][length] += 1\n",
    "                    else:\n",
    "                        sp_counts_train[i][length] = 1\n",
    "\n",
    "                    if length not in all_paths:\n",
    "                        all_paths[length] = len(all_paths)\n",
    "\n",
    "    sp_counts_test = dict()\n",
    "\n",
    "    for i,G in enumerate(Gs_test):\n",
    "        sp_lengths = dict(nx.shortest_path_length(G))\n",
    "        sp_counts_test[i] = dict()\n",
    "        nodes = G.nodes()\n",
    "        for v1 in nodes:\n",
    "            for v2 in nodes:\n",
    "                if v2 in sp_lengths[v1]:\n",
    "                    length = sp_lengths[v1][v2]\n",
    "                    if length in sp_counts_test[i]:\n",
    "                        sp_counts_test[i][length] += 1\n",
    "                    else:\n",
    "                        sp_counts_test[i][length] = 1\n",
    "\n",
    "                    if length not in all_paths:\n",
    "                        all_paths[length] = len(all_paths)\n",
    "\n",
    "    phi_train = np.zeros((len(Gs_train), len(all_paths)))\n",
    "    for i in range(len(Gs_train)):\n",
    "        for length in sp_counts_train[i]:\n",
    "            phi_train[i,all_paths[length]] = sp_counts_train[i][length]\n",
    "\n",
    "\n",
    "    phi_test = np.zeros((len(Gs_test), len(all_paths)))\n",
    "    for i in range(len(Gs_test)):\n",
    "        for length in sp_counts_test[i]:\n",
    "            phi_test[i,all_paths[length]] = sp_counts_test[i][length]\n",
    "\n",
    "    K_train = np.dot(phi_train, phi_train.T)\n",
    "    K_test = np.dot(phi_test, phi_train.T)\n",
    "\n",
    "    return K_train, K_test"
   ]
  },
  {
   "cell_type": "code",
   "execution_count": 38,
   "metadata": {},
   "outputs": [],
   "source": [
    "import numpy as np\n",
    "import networkx as nx\n",
    "\n",
    "def graphlet_kernel(Gs_train, Gs_test, n_samples=200):\n",
    "    graphlets = [nx.Graph(), nx.Graph(), nx.Graph(), nx.Graph()]\n",
    "\n",
    "    graphlets[0].add_nodes_from(range(3))\n",
    "\n",
    "    graphlets[1].add_nodes_from(range(3))\n",
    "    graphlets[1].add_edge(0,1)\n",
    "\n",
    "    graphlets[2].add_nodes_from(range(3))\n",
    "    graphlets[2].add_edge(0,1)\n",
    "    graphlets[2].add_edge(1,2)\n",
    "\n",
    "    graphlets[3].add_nodes_from(range(3))\n",
    "    graphlets[3].add_edge(0,1)\n",
    "    graphlets[3].add_edge(1,2)\n",
    "    graphlets[3].add_edge(0,2)\n",
    "\n",
    "    phi_train = np.zeros((len(Gs_train), 4))\n",
    "\n",
    "    for i, graph in enumerate(Gs_train):\n",
    "        for k in range(n_samples):\n",
    "            sampled_nodes = np.random.choice(list(graph.nodes()), 3)\n",
    "            subgraph = graph.subgraph(sampled_nodes)\n",
    "\n",
    "            # Compare the subgraph with each predefined graphlet\n",
    "            for j, graphlet in enumerate(graphlets):\n",
    "                if nx.is_isomorphic(subgraph, graphlet):\n",
    "                    phi_train[i][j] += 1\n",
    "                    \n",
    "    phi_test = np.zeros((len(Gs_test), 4))\n",
    "\n",
    "    for i, graph in enumerate(Gs_test):\n",
    "        for k in range(n_samples):\n",
    "            # Randomly sample three nodes\n",
    "            sampled_nodes = np.random.choice(list(graph.nodes()), 3)\n",
    "            subgraph = graph.subgraph(sampled_nodes)\n",
    "\n",
    "            # Compare the subgraph with each predefined graphlet\n",
    "            for j, graphlet in enumerate(graphlets):\n",
    "                if nx.is_isomorphic(subgraph, graphlet):\n",
    "                    phi_test[i][j] += 1\n",
    "\n",
    "    # Compute the kernel matrices\n",
    "    K_train = np.dot(phi_train, phi_train.T)\n",
    "    K_test = np.dot(phi_test, phi_train.T)\n",
    "\n",
    "    return K_train, K_test"
   ]
  },
  {
   "cell_type": "code",
   "execution_count": 125,
   "metadata": {
    "id": "VWuiQ8m4ueWN"
   },
   "outputs": [],
   "source": [
    "K_train, K_test = graphlet_kernel(Gs_train, Gs_test, n_samples=200)"
   ]
  },
  {
   "cell_type": "markdown",
   "metadata": {
    "id": "jHemBFyTwEJB"
   },
   "source": [
    "### **Graph Classification using SVM**"
   ]
  },
  {
   "cell_type": "code",
   "execution_count": 39,
   "metadata": {
    "id": "C7xI1wEHxyWM"
   },
   "outputs": [],
   "source": [
    "from sklearn.metrics import accuracy_score\n",
    "from sklearn.svm import SVC"
   ]
  },
  {
   "cell_type": "markdown",
   "metadata": {
    "id": "Vvf6394Zx1Un"
   },
   "source": [
    "#### **SVM using shortest path kernel**"
   ]
  },
  {
   "cell_type": "code",
   "execution_count": 40,
   "metadata": {
    "id": "DeORtwPTxWdp"
   },
   "outputs": [],
   "source": [
    "K_train, K_test = shortest_path_kernel(Gs_train, Gs_test)"
   ]
  },
  {
   "cell_type": "code",
   "execution_count": 41,
   "metadata": {
    "id": "0P-u7iR7wJbS"
   },
   "outputs": [],
   "source": [
    "#Initialize SVM and train\n",
    "clf = SVC(kernel ='precomputed')\n",
    "clf.fit(K_train, y_train)\n",
    "\n",
    "#Predict\n",
    "y_pred = clf.predict(K_test)"
   ]
  },
  {
   "cell_type": "code",
   "execution_count": 42,
   "metadata": {
    "colab": {
     "base_uri": "https://localhost:8080/"
    },
    "id": "vH17cLUoxiv_",
    "outputId": "5f929ccc-8535-4805-85ae-6ad473edf6ae",
    "scrolled": true
   },
   "outputs": [
    {
     "name": "stdout",
     "output_type": "stream",
     "text": [
      "Accuracy: 1.00\n"
     ]
    }
   ],
   "source": [
    "accuracy = accuracy_score(y_test, y_pred)\n",
    "print(f\"Accuracy: {accuracy:.2f}\")"
   ]
  },
  {
   "cell_type": "markdown",
   "metadata": {
    "id": "Isd1WvVZx_FY"
   },
   "source": [
    "#### **SVM using graphlet kernel**"
   ]
  },
  {
   "cell_type": "code",
   "execution_count": 53,
   "metadata": {
    "colab": {
     "base_uri": "https://localhost:8080/",
     "height": 297
    },
    "id": "2m_2h3XqxXIs",
    "outputId": "390ec23f-6575-4b38-a60c-588b6b17a204"
   },
   "outputs": [],
   "source": [
    "K_train, K_test = graphlet_kernel(Gs_train, Gs_test, n_samples=200)"
   ]
  },
  {
   "cell_type": "code",
   "execution_count": 54,
   "metadata": {
    "id": "BGtUvEWKyFYG"
   },
   "outputs": [],
   "source": [
    "#Initialize SVM and train\n",
    "clf = SVC(kernel ='precomputed')\n",
    "clf.fit(K_train, y_train)\n",
    "\n",
    "#Predict\n",
    "y_pred = clf.predict(K_test)"
   ]
  },
  {
   "cell_type": "code",
   "execution_count": 55,
   "metadata": {
    "colab": {
     "base_uri": "https://localhost:8080/"
    },
    "id": "J7tOkw2UyG20",
    "outputId": "4a7b157e-5b16-43d8-ee33-464f541ba307"
   },
   "outputs": [
    {
     "name": "stdout",
     "output_type": "stream",
     "text": [
      "Accuracy: 0.60\n"
     ]
    }
   ],
   "source": [
    "accuracy = accuracy_score(y_test, y_pred)\n",
    "print(f\"Accuracy: {accuracy:.2f}\")"
   ]
  }
 ],
 "metadata": {
  "colab": {
   "provenance": []
  },
  "kernelspec": {
   "display_name": "Python 3 (ipykernel)",
   "language": "python",
   "name": "python3"
  },
  "language_info": {
   "codemirror_mode": {
    "name": "ipython",
    "version": 3
   },
   "file_extension": ".py",
   "mimetype": "text/x-python",
   "name": "python",
   "nbconvert_exporter": "python",
   "pygments_lexer": "ipython3",
   "version": "3.10.9"
  }
 },
 "nbformat": 4,
 "nbformat_minor": 1
}
